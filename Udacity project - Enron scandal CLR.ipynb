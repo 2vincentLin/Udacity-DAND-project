{
 "cells": [
  {
   "cell_type": "code",
   "execution_count": 1,
   "metadata": {},
   "outputs": [
    {
     "name": "stderr",
     "output_type": "stream",
     "text": [
      "C:\\Users\\vincent\\Anaconda2\\lib\\site-packages\\sklearn\\cross_validation.py:44: DeprecationWarning: This module was deprecated in version 0.18 in favor of the model_selection module into which all the refactored classes and functions are moved. Also note that the interface of the new CV iterators are different from that of this module. This module will be removed in 0.20.\n",
      "  \"This module will be removed in 0.20.\", DeprecationWarning)\n"
     ]
    }
   ],
   "source": [
    "import sys\n",
    "import pickle\n",
    "import pandas as pd\n",
    "import numpy as np\n",
    "path = 'C:/Users/vincent/Desktop/Udacity/Data analyst/P5 - Identify Fraud from Enron Email/ud120-projects-master/'\n",
    "sys.path.append(path + \"tools/\")\n",
    "from feature_format import featureFormat, targetFeatureSplit\n",
    "sys.path.append(path + \"tools/\")\n",
    "\n",
    "sys.path.append(path + \"final_project/\")\n",
    "from tester import dump_classifier_and_data, test_classifier\n",
    "\n",
    "\n",
    "from sklearn.preprocessing import MinMaxScaler\n",
    "from sklearn.model_selection import StratifiedShuffleSplit, GridSearchCV\n",
    "from sklearn.metrics import accuracy_score, recall_score, precision_score, f1_score, classification_report\n",
    "\n",
    "from sklearn.decomposition import PCA\n",
    "from sklearn.feature_selection import SelectKBest, f_classif\n",
    "\n",
    "from sklearn import tree\n",
    "from sklearn import svm\n",
    "from sklearn.naive_bayes import GaussianNB\n",
    "from sklearn.linear_model import LogisticRegression\n",
    "from sklearn.ensemble import RandomForestClassifier, AdaBoostClassifier\n",
    "\n",
    "from sklearn.pipeline import Pipeline"
   ]
  },
  {
   "cell_type": "code",
   "execution_count": 2,
   "metadata": {
    "collapsed": true
   },
   "outputs": [],
   "source": [
    "# load dataset\n",
    "with open(path + \"final_project/final_project_dataset.pkl\", \"r\") as data_file:\n",
    "    data_dict = pickle.load(data_file)\n",
    "dataDF = pd.DataFrame(data_dict).transpose()\n",
    "dataDF.drop(['LOCKHART EUGENE E', 'TOTAL', 'THE TRAVEL AGENCY IN THE PARK'], inplace=True)\n",
    "del dataDF['email_address']\n",
    "\n",
    "# add new feature\n",
    "dataDF.replace('NaN', np.nan, inplace=True)\n",
    "dataDF['BtoN_ratio'] = dataDF['bonus'] / dataDF['salary']\n",
    "dataDF.replace(np.nan, 'NaN', inplace=True)\n",
    "\n",
    "temp = list(dataDF.columns.values)\n",
    "try:\n",
    "    temp.remove('poi')\n",
    "except:\n",
    "    pass\n",
    "temp.insert(0, 'poi')\n",
    "features_list = temp\n",
    "\n",
    "my_dataset = dataDF.transpose().to_dict()\n",
    "data = featureFormat(my_dataset, features_list, sort_keys = True)\n",
    "scaler = MinMaxScaler()\n",
    "data = scaler.fit_transform(data)\n",
    "labels, features = targetFeatureSplit(data)"
   ]
  },
  {
   "cell_type": "code",
   "execution_count": 3,
   "metadata": {
    "collapsed": true
   },
   "outputs": [],
   "source": [
    "def clfResult(featurs, labels, clf):\n",
    "    print 'result'\n",
    "    print '--------'\n",
    "    pred = clf.predict(featurs)\n",
    "    print 'best parameters: ', clf.best_params_\n",
    "    print clf.best_score_\n",
    "    print clf.best_estimator_\n",
    "    print 'accuracy: ', accuracy_score(labels, pred)\n",
    "    print 'recall: ', recall_score(labels, pred)\n",
    "    print 'precision: ', precision_score(labels, pred)\n",
    "    print 'f1_score: ', f1_score(labels, pred)\n",
    "    print classification_report(labels, pred)\n",
    "    print '--------\\n'"
   ]
  },
  {
   "cell_type": "markdown",
   "metadata": {},
   "source": [
    "### Classifiers without using SKB and PCA, and use GridSearchCV to tune its parameters"
   ]
  },
  {
   "cell_type": "code",
   "execution_count": 14,
   "metadata": {},
   "outputs": [
    {
     "name": "stdout",
     "output_type": "stream",
     "text": [
      "result\n",
      "--------\n",
      "best parameters:  {}\n",
      "0.224263233499\n",
      "GaussianNB(priors=None)\n",
      "accuracy:  0.398601398601\n",
      "recall:  1.0\n",
      "precision:  0.173076923077\n",
      "f1_score:  0.295081967213\n",
      "             precision    recall  f1-score   support\n",
      "\n",
      "        0.0       1.00      0.31      0.48       125\n",
      "        1.0       0.17      1.00      0.30        18\n",
      "\n",
      "avg / total       0.90      0.40      0.45       143\n",
      "\n",
      "--------\n",
      "\n"
     ]
    }
   ],
   "source": [
    "cv = StratifiedShuffleSplit(n_splits=10, test_size=0.3, random_state=41)\n",
    "\n",
    "clf = GridSearchCV(GaussianNB(), n_jobs=-1, scoring= 'f1', cv = cv, param_grid= {})\n",
    "clf.fit(features, labels)\n",
    "clfResult(features, labels, clf)"
   ]
  },
  {
   "cell_type": "code",
   "execution_count": 16,
   "metadata": {},
   "outputs": [
    {
     "name": "stdout",
     "output_type": "stream",
     "text": [
      "[ 0.  1.  0.  1.  0.  0.  1.  1.  0.  1.  1.  0.  1.  1.  0.  1.  1.  1.\n",
      "  1.  1.  1.  0.  1.  0.  1.  0.  1.  1.  1.  1.  1.  1.  0.  0.  1.  1.\n",
      "  1.  1.  0.  1.  1.  1.  1.  1.  1.  1.  0.  1.  1.  1.  1.  0.  0.  1.\n",
      "  1.  1.  0.  1.  0.  1.  1.  1.  1.  1.  1.  1.  0.  1.  0.  1.  1.  0.\n",
      "  0.  0.  1.  1.  1.  1.  1.  1.  1.  0.  1.  1.  0.  1.  1.  1.  1.  1.\n",
      "  1.  0.  1.  0.  0.  1.  1.  1.  1.  0.  1.  1.  1.  0.  1.  0.  1.  0.\n",
      "  0.  1.  0.  1.  1.  0.  0.  1.  1.  1.  1.  1.  1.  1.  1.  1.  1.  1.\n",
      "  1.  1.  1.  0.  0.  1.  1.  1.  1.  1.  1.  1.  0.  1.  1.  1.  1.]\n",
      "             precision    recall  f1-score   support\n",
      "\n",
      "        0.0       1.00      0.31      0.48       125\n",
      "        1.0       0.17      1.00      0.30        18\n",
      "\n",
      "avg / total       0.90      0.40      0.45       143\n",
      "\n"
     ]
    }
   ],
   "source": [
    "pred = clf.predict(features)\n",
    "print pred\n",
    "print classification_report(labels, pred)"
   ]
  },
  {
   "cell_type": "code",
   "execution_count": 14,
   "metadata": {},
   "outputs": [
    {
     "name": "stdout",
     "output_type": "stream",
     "text": [
      "result\n",
      "--------\n",
      "accuracy:  0.398601398601\n",
      "recall:  1.0\n",
      "precision:  0.173076923077\n",
      "f1_score:  0.295081967213\n",
      "             precision    recall  f1-score   support\n",
      "\n",
      "        0.0       1.00      0.31      0.48       125\n",
      "        1.0       0.17      1.00      0.30        18\n",
      "\n",
      "avg / total       0.90      0.40      0.45       143\n",
      "\n",
      "--------\n",
      "\n"
     ]
    }
   ],
   "source": [
    "clf = GaussianNB()\n",
    "clf.fit(features, labels)\n",
    "clfResult(features, labels, clf)"
   ]
  },
  {
   "cell_type": "code",
   "execution_count": 4,
   "metadata": {},
   "outputs": [
    {
     "name": "stdout",
     "output_type": "stream",
     "text": [
      "result\n",
      "--------\n",
      "best parameters:  {'kernel': 'linear', 'C': 11, 'tol': 1.8}\n",
      "0.227380952381\n",
      "SVC(C=11, cache_size=200, class_weight=None, coef0=0.0,\n",
      "  decision_function_shape=None, degree=3, gamma='auto', kernel='linear',\n",
      "  max_iter=-1, probability=False, random_state=None, shrinking=True,\n",
      "  tol=1.8, verbose=False)\n",
      "accuracy:  0.916083916084\n",
      "recall:  0.388888888889\n",
      "precision:  0.875\n",
      "f1_score:  0.538461538462\n",
      "--------\n",
      "\n"
     ]
    }
   ],
   "source": [
    "cv = StratifiedShuffleSplit(n_splits=10, test_size=0.3, random_state=42)\n",
    "\n",
    "parameters = {'kernel': ('linear', 'poly', 'rbf', 'sigmoid'), \n",
    "              'C':range(7,15,1), \n",
    "              'tol': [x*0.1 for x in range(1, 20)]}\n",
    "\n",
    "clf = GridSearchCV(svm.SVC(), n_jobs= -1, scoring= 'f1', cv = cv, param_grid= parameters)\n",
    "clf.fit(features, labels)\n",
    "clfResult(features, labels, clf)"
   ]
  },
  {
   "cell_type": "code",
   "execution_count": null,
   "metadata": {},
   "outputs": [
    {
     "name": "stdout",
     "output_type": "stream",
     "text": [
      "SVC(C=11, cache_size=200, class_weight=None, coef0=0.0,\n",
      "  decision_function_shape=None, degree=3, gamma='auto', kernel='linear',\n",
      "  max_iter=-1, probability=False, random_state=None, shrinking=True,\n",
      "  tol=1.8, verbose=False)\n"
     ]
    }
   ],
   "source": [
    "svmClf = svm.SVC(kernel= 'linear', C= 11, tol= 1.8)\n",
    "print svmClf\n",
    "test_classifier(svmClf, my_dataset, features_list, folds = 10)\n"
   ]
  },
  {
   "cell_type": "code",
   "execution_count": 7,
   "metadata": {},
   "outputs": [
    {
     "name": "stdout",
     "output_type": "stream",
     "text": [
      "result\n",
      "--------\n",
      "best parameters:  {'min_samples_leaf': 5, 'criterion': 'gini', 'class_weight': None}\n",
      "0.279090909091\n",
      "DecisionTreeClassifier(class_weight=None, criterion='gini', max_depth=None,\n",
      "            max_features=None, max_leaf_nodes=None,\n",
      "            min_impurity_split=1e-07, min_samples_leaf=5,\n",
      "            min_samples_split=2, min_weight_fraction_leaf=0.0,\n",
      "            presort=False, random_state=None, splitter='best')\n",
      "accuracy:  0.916083916084\n",
      "recall:  0.555555555556\n",
      "precision:  0.714285714286\n",
      "f1_score:  0.625\n",
      "--------\n",
      "\n"
     ]
    }
   ],
   "source": [
    "cv = StratifiedShuffleSplit(n_splits=10, test_size=0.3, random_state=42)\n",
    "\n",
    "parameters = {'criterion': ('gini', 'entropy'), \n",
    "              'class_weight': ('balanced', None), \n",
    "              'min_samples_leaf': range(1,13)}\n",
    "clf = GridSearchCV(tree.DecisionTreeClassifier(), param_grid= parameters, n_jobs= -1, scoring= 'precision', cv= cv)\n",
    "clf.fit(features, labels)\n",
    "clfResult(features, labels, clf)"
   ]
  },
  {
   "cell_type": "code",
   "execution_count": 47,
   "metadata": {},
   "outputs": [
    {
     "name": "stdout",
     "output_type": "stream",
     "text": [
      "result\n",
      "--------\n",
      "best parameters:  {'C': 1000000, 'tol': 1e-130, 'class_weight': 'balanced'}\n",
      "0.331993430546\n",
      "LogisticRegression(C=1000000, class_weight='balanced', dual=False,\n",
      "          fit_intercept=True, intercept_scaling=1, max_iter=100,\n",
      "          multi_class='ovr', n_jobs=1, penalty='l2', random_state=None,\n",
      "          solver='liblinear', tol=1e-130, verbose=0, warm_start=False)\n",
      "accuracy:  0.909090909091\n",
      "recall:  0.944444444444\n",
      "precision:  0.586206896552\n",
      "f1_score:  0.723404255319\n",
      "             precision    recall  f1-score   support\n",
      "\n",
      "        0.0       0.99      0.90      0.95       125\n",
      "        1.0       0.59      0.94      0.72        18\n",
      "\n",
      "avg / total       0.94      0.91      0.92       143\n",
      "\n",
      "--------\n",
      "\n"
     ]
    }
   ],
   "source": [
    "cv = StratifiedShuffleSplit(n_splits= 10, test_size=0.3, random_state=42)\n",
    "\n",
    "parameters = {'C':[10**x for x in range(0,7,1)], \n",
    "              'tol':[10**x for x in range(-130,-120,1)],\n",
    "              'class_weight': ('balanced', None)}\n",
    "\n",
    "clf = GridSearchCV(LogisticRegression(), param_grid= parameters, n_jobs= -1, scoring= 'f1', cv = cv)\n",
    "clf.fit(features, labels)\n",
    "clfResult(features, labels, clf)"
   ]
  },
  {
   "cell_type": "code",
   "execution_count": 48,
   "metadata": {},
   "outputs": [
    {
     "name": "stdout",
     "output_type": "stream",
     "text": [
      "LogisticRegression(C=1000000, class_weight='balanced', dual=False,\n",
      "          fit_intercept=True, intercept_scaling=1, max_iter=100,\n",
      "          multi_class='ovr', n_jobs=1, penalty='l2', random_state=None,\n",
      "          solver='liblinear', tol=1e-130, verbose=0, warm_start=False)\n",
      "\tAccuracy: 0.62127\tPrecision: 0.18349\tRecall: 0.53350\tF1: 0.27306\tF2: 0.38617\n",
      "\tTotal predictions: 15000\tTrue positives: 1067\tFalse positives: 4748\tFalse negatives:  933\tTrue negatives: 8252\n",
      "\n"
     ]
    }
   ],
   "source": [
    "Log = LogisticRegression.set_params(clf.best_estimator_)\n",
    "test_classifier(Log, my_dataset, features_list, folds = 1000)"
   ]
  },
  {
   "cell_type": "code",
   "execution_count": 32,
   "metadata": {},
   "outputs": [
    {
     "name": "stdout",
     "output_type": "stream",
     "text": [
      "result\n",
      "--------\n",
      "best parameters:  {'min_samples_leaf': 5, 'criterion': 'gini', 'class_weight': 'balanced'}\n",
      "0.343611111111\n",
      "RandomForestClassifier(bootstrap=True, class_weight='balanced',\n",
      "            criterion='gini', max_depth=None, max_features='auto',\n",
      "            max_leaf_nodes=None, min_impurity_split=1e-07,\n",
      "            min_samples_leaf=5, min_samples_split=2,\n",
      "            min_weight_fraction_leaf=0.0, n_estimators=10, n_jobs=1,\n",
      "            oob_score=False, random_state=None, verbose=0,\n",
      "            warm_start=False)\n",
      "accuracy:  0.937062937063\n",
      "recall:  0.833333333333\n",
      "precision:  0.714285714286\n",
      "f1_score:  0.769230769231\n",
      "--------\n",
      "\n"
     ]
    }
   ],
   "source": [
    "cv = StratifiedShuffleSplit(n_splits=10, test_size=0.3, random_state=42)\n",
    "\n",
    "parameters = {'criterion': ('gini', 'entropy'), \n",
    "              'class_weight': ('balanced', None), \n",
    "              'min_samples_leaf': range(1,11)}\n",
    "\n",
    "clf = GridSearchCV(RandomForestClassifier(), param_grid= parameters, n_jobs= -1, scoring= 'f1', cv = cv)\n",
    "clf.fit(features, labels)\n",
    "clfResult(features, labels, clf)"
   ]
  },
  {
   "cell_type": "code",
   "execution_count": 26,
   "metadata": {},
   "outputs": [
    {
     "name": "stdout",
     "output_type": "stream",
     "text": [
      "result\n",
      "--------\n",
      "best parameters:  {'n_estimators': 60, 'learning_rate': 0.6000000000000001, 'algorithm': 'SAMME.R'}\n",
      "0.386904761905\n",
      "AdaBoostClassifier(algorithm='SAMME.R', base_estimator=None,\n",
      "          learning_rate=0.6, n_estimators=60, random_state=None)\n",
      "accuracy:  1.0\n",
      "recall:  1.0\n",
      "precision:  1.0\n",
      "f1_score:  1.0\n",
      "--------\n",
      "\n"
     ]
    }
   ],
   "source": [
    "cv = StratifiedShuffleSplit(n_splits=10, test_size=0.3, random_state=42)\n",
    "\n",
    "parameters = {'n_estimators': range(40, 100, 10), \n",
    "              'learning_rate': [x*0.1 for x in range(1, 21)],\n",
    "              'algorithm' : ('SAMME', 'SAMME.R')}\n",
    "\n",
    "clf = GridSearchCV(AdaBoostClassifier(), param_grid= parameters, n_jobs= -1, scoring= 'precision', cv = cv)\n",
    "clf.fit(features, labels)\n",
    "clfResult(features, labels, clf)"
   ]
  },
  {
   "cell_type": "code",
   "execution_count": 25,
   "metadata": {},
   "outputs": [
    {
     "data": {
      "text/html": [
       "<div>\n",
       "<table border=\"1\" class=\"dataframe\">\n",
       "  <thead>\n",
       "    <tr style=\"text-align: right;\">\n",
       "      <th></th>\n",
       "      <th>importances</th>\n",
       "    </tr>\n",
       "  </thead>\n",
       "  <tbody>\n",
       "    <tr>\n",
       "      <th>other</th>\n",
       "      <td>0.191295</td>\n",
       "    </tr>\n",
       "    <tr>\n",
       "      <th>expenses</th>\n",
       "      <td>0.138526</td>\n",
       "    </tr>\n",
       "    <tr>\n",
       "      <th>shared_receipt_with_poi</th>\n",
       "      <td>0.112230</td>\n",
       "    </tr>\n",
       "    <tr>\n",
       "      <th>BtoN_ratio</th>\n",
       "      <td>0.092154</td>\n",
       "    </tr>\n",
       "    <tr>\n",
       "      <th>restricted_stock</th>\n",
       "      <td>0.063514</td>\n",
       "    </tr>\n",
       "    <tr>\n",
       "      <th>total_stock_value</th>\n",
       "      <td>0.062370</td>\n",
       "    </tr>\n",
       "    <tr>\n",
       "      <th>from_poi_to_this_person</th>\n",
       "      <td>0.053273</td>\n",
       "    </tr>\n",
       "    <tr>\n",
       "      <th>bonus</th>\n",
       "      <td>0.051287</td>\n",
       "    </tr>\n",
       "    <tr>\n",
       "      <th>deferred_income</th>\n",
       "      <td>0.046471</td>\n",
       "    </tr>\n",
       "    <tr>\n",
       "      <th>salary</th>\n",
       "      <td>0.044054</td>\n",
       "    </tr>\n",
       "    <tr>\n",
       "      <th>exercised_stock_options</th>\n",
       "      <td>0.040362</td>\n",
       "    </tr>\n",
       "    <tr>\n",
       "      <th>long_term_incentive</th>\n",
       "      <td>0.033543</td>\n",
       "    </tr>\n",
       "    <tr>\n",
       "      <th>from_this_person_to_poi</th>\n",
       "      <td>0.029817</td>\n",
       "    </tr>\n",
       "    <tr>\n",
       "      <th>total_payments</th>\n",
       "      <td>0.018526</td>\n",
       "    </tr>\n",
       "    <tr>\n",
       "      <th>to_messages</th>\n",
       "      <td>0.014805</td>\n",
       "    </tr>\n",
       "    <tr>\n",
       "      <th>from_messages</th>\n",
       "      <td>0.007772</td>\n",
       "    </tr>\n",
       "    <tr>\n",
       "      <th>loan_advances</th>\n",
       "      <td>0.000000</td>\n",
       "    </tr>\n",
       "    <tr>\n",
       "      <th>deferral_payments</th>\n",
       "      <td>0.000000</td>\n",
       "    </tr>\n",
       "    <tr>\n",
       "      <th>restricted_stock_deferred</th>\n",
       "      <td>0.000000</td>\n",
       "    </tr>\n",
       "    <tr>\n",
       "      <th>director_fees</th>\n",
       "      <td>0.000000</td>\n",
       "    </tr>\n",
       "  </tbody>\n",
       "</table>\n",
       "</div>"
      ],
      "text/plain": [
       "                           importances\n",
       "other                         0.191295\n",
       "expenses                      0.138526\n",
       "shared_receipt_with_poi       0.112230\n",
       "BtoN_ratio                    0.092154\n",
       "restricted_stock              0.063514\n",
       "total_stock_value             0.062370\n",
       "from_poi_to_this_person       0.053273\n",
       "bonus                         0.051287\n",
       "deferred_income               0.046471\n",
       "salary                        0.044054\n",
       "exercised_stock_options       0.040362\n",
       "long_term_incentive           0.033543\n",
       "from_this_person_to_poi       0.029817\n",
       "total_payments                0.018526\n",
       "to_messages                   0.014805\n",
       "from_messages                 0.007772\n",
       "loan_advances                 0.000000\n",
       "deferral_payments             0.000000\n",
       "restricted_stock_deferred     0.000000\n",
       "director_fees                 0.000000"
      ]
     },
     "execution_count": 25,
     "metadata": {},
     "output_type": "execute_result"
    }
   ],
   "source": [
    "temp = {'importances' : clf.best_estimator_.feature_importances_}\n",
    "temp = pd.DataFrame(data= temp, index= features_list[1:])\n",
    "temp.sort_values(by= 'importances', ascending= False)\n",
    "pd.DataFrame(data= temp, index= features_list[1:]).sort_values(by= 'importances', ascending= False)"
   ]
  },
  {
   "cell_type": "markdown",
   "metadata": {},
   "source": [
    "### Classifiers with PCA, and use GridSearchCV and Pipeline to tune its parameters"
   ]
  },
  {
   "cell_type": "code",
   "execution_count": 27,
   "metadata": {},
   "outputs": [
    {
     "name": "stdout",
     "output_type": "stream",
     "text": [
      "result\n",
      "--------\n",
      "best parameters:  {'Logistic__C': 1000, 'Logistic__tol': 1e-120, 'pca__n_components': 14, 'Logistic__class_weight': 'balanced'}\n",
      "0.336612627139\n",
      "Pipeline(steps=[('pca', PCA(copy=True, iterated_power='auto', n_components=14, random_state=None,\n",
      "  svd_solver='auto', tol=0.0, whiten=False)), ('Logistic', LogisticRegression(C=1000, class_weight='balanced', dual=False,\n",
      "          fit_intercept=True, intercept_scaling=1, max_iter=100,\n",
      "          multi_class='ovr', n_jobs=1, penalty='l2', random_state=None,\n",
      "          solver='liblinear', tol=1e-120, verbose=0, warm_start=False))])\n",
      "accuracy:  0.853146853147\n",
      "recall:  0.888888888889\n",
      "precision:  0.457142857143\n",
      "f1_score:  0.603773584906\n",
      "--------\n",
      "\n"
     ]
    }
   ],
   "source": [
    "# for logistic regression, in this case, C is between 100 to 10000, tol is close to zero,\n",
    "# the more pca__n_components the better\n",
    "parameters = {'Logistic__C':[10**x for x in range(0,7,1)], \n",
    "              'Logistic__tol':[10**x for x in range(-120,-100,1)],\n",
    "              'Logistic__class_weight': ('balanced', None),\n",
    "              'pca__n_components': range(9, 15)}\n",
    "pca = PCA()\n",
    "log = LogisticRegression()\n",
    "pipe = Pipeline(steps=[('pca', pca), ('Logistic', log)])\n",
    "clf = GridSearchCV(pipe, param_grid= parameters, scoring= 'f1', cv = cv, n_jobs= -1)\n",
    "clf.fit(features, labels)\n",
    "clfResult(features, labels, clf)"
   ]
  },
  {
   "cell_type": "code",
   "execution_count": 20,
   "metadata": {},
   "outputs": [
    {
     "name": "stdout",
     "output_type": "stream",
     "text": [
      "result\n",
      "--------\n",
      "best parameters:  {'RandomForest__class_weight': 'balanced', 'RandomForest__criterion': 'entropy', 'pca__n_components': 5, 'RandomForest__min_samples_leaf': 5}\n",
      "0.331465201465\n",
      "Pipeline(steps=[('pca', PCA(copy=True, iterated_power='auto', n_components=5, random_state=None,\n",
      "  svd_solver='auto', tol=0.0, whiten=False)), ('RandomForest', RandomForestClassifier(bootstrap=True, class_weight='balanced',\n",
      "            criterion='entropy', max_depth=None, max_features='auto',\n",
      "            max...n_jobs=1,\n",
      "            oob_score=False, random_state=None, verbose=0,\n",
      "            warm_start=False))])\n",
      "accuracy:  0.895104895105\n",
      "recall:  0.888888888889\n",
      "precision:  0.551724137931\n",
      "f1_score:  0.68085106383\n",
      "             precision    recall  f1-score   support\n",
      "\n",
      "        0.0       0.98      0.90      0.94       125\n",
      "        1.0       0.55      0.89      0.68        18\n",
      "\n",
      "avg / total       0.93      0.90      0.90       143\n",
      "\n",
      "--------\n",
      "\n"
     ]
    }
   ],
   "source": [
    "cv = StratifiedShuffleSplit(n_splits=10, test_size=0.3, random_state=42)\n",
    "\n",
    "\n",
    "parameters = {'pca__n_components': range(2, 10),\n",
    "              'RandomForest__criterion': ('gini', 'entropy'), \n",
    "              'RandomForest__class_weight': ('balanced', None), \n",
    "              'RandomForest__min_samples_leaf': range(1,11)}\n",
    "pca = PCA()\n",
    "ran = RandomForestClassifier()\n",
    "pipe = Pipeline(steps=[('pca', pca), ('RandomForest', ran)])\n",
    "clf = GridSearchCV(pipe, param_grid= parameters, scoring= 'precision', cv = cv, n_jobs= -1)\n",
    "clf.fit(features, labels)\n",
    "clfResult(features, labels, clf)"
   ]
  },
  {
   "cell_type": "code",
   "execution_count": 21,
   "metadata": {},
   "outputs": [
    {
     "name": "stdout",
     "output_type": "stream",
     "text": [
      "Pipeline(steps=[('pca', PCA(copy=True, iterated_power='auto', n_components=9, random_state=None,\n",
      "  svd_solver='auto', tol=0.0, whiten=False)), ('RandomForest', RandomForestClassifier(bootstrap=True, class_weight=None, criterion='gini',\n",
      "            max_depth=None, max_features='auto', max_leaf_nodes=None,\n",
      "   ...imators=10, n_jobs=1, oob_score=False, random_state=None,\n",
      "            verbose=0, warm_start=False))])\n",
      "\tAccuracy: 0.85133\tPrecision: 0.35065\tRecall: 0.13500\tF1: 0.19495\tF2: 0.15393\n",
      "\tTotal predictions: 15000\tTrue positives:  270\tFalse positives:  500\tFalse negatives: 1730\tTrue negatives: 12500\n",
      "\n"
     ]
    }
   ],
   "source": [
    "pca = PCA(n_components=9)\n",
    "ran = RandomForestClassifier(class_weight= None, criterion = 'gini', min_samples_leaf= 1)\n",
    "clf = Pipeline(steps=[('pca', pca), ('RandomForest', ran)])\n",
    "\n",
    "test_classifier(clf, my_dataset, features_list, folds = 1000)\n"
   ]
  },
  {
   "cell_type": "markdown",
   "metadata": {},
   "source": [
    "### Classifiers SKB, and use GridSearchCV and Pipeline to tune its parameters"
   ]
  },
  {
   "cell_type": "code",
   "execution_count": 49,
   "metadata": {},
   "outputs": [
    {
     "name": "stdout",
     "output_type": "stream",
     "text": [
      "result\n",
      "--------\n",
      "best parameters:  {'Logistic__C': 1000000, 'Logistic__tol': 1e-130, 'Logistic__class_weight': 'balanced', 'skb__k': 11}\n",
      "0.328049289891\n",
      "Pipeline(steps=[('skb', SelectKBest(k=11, score_func=<function f_classif at 0x000000000A9940B8>)), ('Logistic', LogisticRegression(C=1000000, class_weight='balanced', dual=False,\n",
      "          fit_intercept=True, intercept_scaling=1, max_iter=100,\n",
      "          multi_class='ovr', n_jobs=1, penalty='l2', random_state=None,\n",
      "          solver='liblinear', tol=1e-130, verbose=0, warm_start=False))])\n",
      "accuracy:  0.699300699301\n",
      "recall:  0.888888888889\n",
      "precision:  0.280701754386\n",
      "f1_score:  0.426666666667\n",
      "             precision    recall  f1-score   support\n",
      "\n",
      "        0.0       0.98      0.67      0.80       125\n",
      "        1.0       0.28      0.89      0.43        18\n",
      "\n",
      "avg / total       0.89      0.70      0.75       143\n",
      "\n",
      "--------\n",
      "\n"
     ]
    }
   ],
   "source": [
    "cv = StratifiedShuffleSplit(n_splits=10, test_size=0.3, random_state=42)\n",
    "\n",
    "parameters = {'Logistic__C':[10**x for x in range(0,9,1)], \n",
    "              'Logistic__tol':[10**x for x in range(-130,-120,1)],\n",
    "              'Logistic__class_weight': ('balanced', None),\n",
    "              'skb__k': range(6, 15)}\n",
    "skb = SelectKBest(f_classif)\n",
    "log = LogisticRegression()\n",
    "pipe = Pipeline(steps=[('skb', skb), ('Logistic', log)])\n",
    "clf = GridSearchCV(pipe, param_grid= parameters, scoring= 'f1', cv = cv, n_jobs= -1)\n",
    "clf.fit(features, labels)\n",
    "clfResult(features, labels, clf)"
   ]
  },
  {
   "cell_type": "code",
   "execution_count": 59,
   "metadata": {},
   "outputs": [
    {
     "name": "stdout",
     "output_type": "stream",
     "text": [
      "result\n",
      "--------\n",
      "best parameters:  {'Ada__algorithm': 'SAMME.R', 'Ada__learning_rate': 0.6000000000000001, 'Ada__n_estimators': 60, 'skb__k': 16}\n",
      "0.320411255411\n",
      "Pipeline(steps=[('skb', SelectKBest(k=16, score_func=<function f_classif at 0x000000000AF33F98>)), ('Ada', AdaBoostClassifier(algorithm='SAMME.R', base_estimator=None,\n",
      "          learning_rate=0.6, n_estimators=60, random_state=None))])\n",
      "accuracy:  1.0\n",
      "recall:  1.0\n",
      "precision:  1.0\n",
      "f1_score:  1.0\n",
      "--------\n",
      "\n",
      "                         SKB_score\n",
      "exercised_stock_options  24.815080\n",
      "total_stock_value        24.182899\n",
      "bonus                    20.792252\n",
      "salary                   18.289684\n",
      "deferred_income          11.458477\n",
      "BtoN_ratio               10.783585\n",
      "long_term_incentive       9.922186\n",
      "restricted_stock          9.212811\n",
      "total_payments            8.772778\n",
      "shared_receipt_with_poi   8.589421\n",
      "loan_advances             7.184056\n",
      "expenses                  6.094173\n",
      "from_poi_to_this_person   5.243450\n",
      "other                     4.187478\n",
      "from_this_person_to_poi   2.382612\n",
      "director_fees             2.126328\n",
      "                         Ada_importances\n",
      "expenses                        0.166667\n",
      "other                           0.166667\n",
      "from_this_person_to_poi         0.133333\n",
      "exercised_stock_options         0.100000\n",
      "salary                          0.100000\n",
      "deferred_income                 0.083333\n",
      "bonus                           0.050000\n",
      "restricted_stock                0.050000\n",
      "shared_receipt_with_poi         0.033333\n",
      "total_payments                  0.033333\n",
      "total_stock_value               0.033333\n",
      "BtoN_ratio                      0.033333\n",
      "from_poi_to_this_person         0.016667\n",
      "director_fees                   0.000000\n",
      "loan_advances                   0.000000\n",
      "long_term_incentive             0.000000\n"
     ]
    },
    {
     "data": {
      "text/html": [
       "<div>\n",
       "<table border=\"1\" class=\"dataframe\">\n",
       "  <thead>\n",
       "    <tr style=\"text-align: right;\">\n",
       "      <th></th>\n",
       "      <th>SKB_score</th>\n",
       "      <th>Ada_importances</th>\n",
       "    </tr>\n",
       "  </thead>\n",
       "  <tbody>\n",
       "    <tr>\n",
       "      <th>BtoN_ratio</th>\n",
       "      <td>10.783585</td>\n",
       "      <td>0.033333</td>\n",
       "    </tr>\n",
       "    <tr>\n",
       "      <th>bonus</th>\n",
       "      <td>20.792252</td>\n",
       "      <td>0.050000</td>\n",
       "    </tr>\n",
       "    <tr>\n",
       "      <th>deferred_income</th>\n",
       "      <td>11.458477</td>\n",
       "      <td>0.083333</td>\n",
       "    </tr>\n",
       "    <tr>\n",
       "      <th>director_fees</th>\n",
       "      <td>2.126328</td>\n",
       "      <td>0.000000</td>\n",
       "    </tr>\n",
       "    <tr>\n",
       "      <th>exercised_stock_options</th>\n",
       "      <td>24.815080</td>\n",
       "      <td>0.100000</td>\n",
       "    </tr>\n",
       "    <tr>\n",
       "      <th>expenses</th>\n",
       "      <td>6.094173</td>\n",
       "      <td>0.166667</td>\n",
       "    </tr>\n",
       "    <tr>\n",
       "      <th>from_poi_to_this_person</th>\n",
       "      <td>5.243450</td>\n",
       "      <td>0.016667</td>\n",
       "    </tr>\n",
       "    <tr>\n",
       "      <th>from_this_person_to_poi</th>\n",
       "      <td>2.382612</td>\n",
       "      <td>0.133333</td>\n",
       "    </tr>\n",
       "    <tr>\n",
       "      <th>loan_advances</th>\n",
       "      <td>7.184056</td>\n",
       "      <td>0.000000</td>\n",
       "    </tr>\n",
       "    <tr>\n",
       "      <th>long_term_incentive</th>\n",
       "      <td>9.922186</td>\n",
       "      <td>0.000000</td>\n",
       "    </tr>\n",
       "    <tr>\n",
       "      <th>other</th>\n",
       "      <td>4.187478</td>\n",
       "      <td>0.166667</td>\n",
       "    </tr>\n",
       "    <tr>\n",
       "      <th>restricted_stock</th>\n",
       "      <td>9.212811</td>\n",
       "      <td>0.050000</td>\n",
       "    </tr>\n",
       "    <tr>\n",
       "      <th>salary</th>\n",
       "      <td>18.289684</td>\n",
       "      <td>0.100000</td>\n",
       "    </tr>\n",
       "    <tr>\n",
       "      <th>shared_receipt_with_poi</th>\n",
       "      <td>8.589421</td>\n",
       "      <td>0.033333</td>\n",
       "    </tr>\n",
       "    <tr>\n",
       "      <th>total_payments</th>\n",
       "      <td>8.772778</td>\n",
       "      <td>0.033333</td>\n",
       "    </tr>\n",
       "    <tr>\n",
       "      <th>total_stock_value</th>\n",
       "      <td>24.182899</td>\n",
       "      <td>0.033333</td>\n",
       "    </tr>\n",
       "  </tbody>\n",
       "</table>\n",
       "</div>"
      ],
      "text/plain": [
       "                         SKB_score  Ada_importances\n",
       "BtoN_ratio               10.783585         0.033333\n",
       "bonus                    20.792252         0.050000\n",
       "deferred_income          11.458477         0.083333\n",
       "director_fees             2.126328         0.000000\n",
       "exercised_stock_options  24.815080         0.100000\n",
       "expenses                  6.094173         0.166667\n",
       "from_poi_to_this_person   5.243450         0.016667\n",
       "from_this_person_to_poi   2.382612         0.133333\n",
       "loan_advances             7.184056         0.000000\n",
       "long_term_incentive       9.922186         0.000000\n",
       "other                     4.187478         0.166667\n",
       "restricted_stock          9.212811         0.050000\n",
       "salary                   18.289684         0.100000\n",
       "shared_receipt_with_poi   8.589421         0.033333\n",
       "total_payments            8.772778         0.033333\n",
       "total_stock_value        24.182899         0.033333"
      ]
     },
     "execution_count": 59,
     "metadata": {},
     "output_type": "execute_result"
    }
   ],
   "source": [
    "cv = StratifiedShuffleSplit(n_splits=10, test_size=0.3, random_state=42)\n",
    "\n",
    "parameters = {'Ada__n_estimators': range(40, 110, 10), \n",
    "              'Ada__learning_rate': [x*0.1 for x in range(1, 21)],\n",
    "              'Ada__algorithm' : ('SAMME', 'SAMME.R'),\n",
    "              'skb__k': range(14, 19)}\n",
    "skb = SelectKBest(f_classif)\n",
    "ada = AdaBoostClassifier()\n",
    "pipe = Pipeline(steps=[('skb', skb), ('Ada', ada)])\n",
    "\n",
    "clf = GridSearchCV(pipe, param_grid= parameters, n_jobs= -1, scoring= 'f1', cv = cv)\n",
    "clf.fit(features, labels)\n",
    "clfResult(features, labels, clf)\n",
    "\n",
    "# print out best k features (you can also rifit skb, I tried couple of times, had the same result)\n",
    "skb_indices = clf.best_estimator_.named_steps['skb'].get_support(indices = True)\n",
    "skb_score =clf.best_estimator_.named_steps['skb'].scores_\n",
    "\n",
    "features_selected=[features_list[i+1] for i in skb_indices]\n",
    "features_score = [skb_score[i] for i in skb_indices]\n",
    "tempS = pd.DataFrame(data={'SKB_score': features_score}, index= features_selected).sort_values('SKB_score', ascending = False)\n",
    "print tempS\n",
    "\n",
    "temp = {'Ada_importances' :  clf.best_estimator_.named_steps['Ada'].feature_importances_}\n",
    "tempR = pd.DataFrame(data= temp, index= features_selected).sort_values('Ada_importances', ascending = False)\n",
    "\n",
    "print tempR\n",
    "\n",
    "pd.concat([tempS, tempR], axis=1)"
   ]
  },
  {
   "cell_type": "code",
   "execution_count": 60,
   "metadata": {},
   "outputs": [
    {
     "name": "stdout",
     "output_type": "stream",
     "text": [
      "AdaBoostClassifier(algorithm='SAMME.R', base_estimator=None,\n",
      "          learning_rate=0.6, n_estimators=60, random_state=None)\n",
      "\tAccuracy: 0.86333\tPrecision: 0.48062\tRecall: 0.31000\tF1: 0.37690\tF2: 0.33369\n",
      "\tTotal predictions: 1500\tTrue positives:   62\tFalse positives:   67\tFalse negatives:  138\tTrue negatives: 1233\n",
      "\n"
     ]
    }
   ],
   "source": [
    "\n",
    "ada= AdaBoostClassifier.set_params(clf.best_estimator_.named_steps['Ada'])\n",
    "\n",
    "tempList = features_selected[:]\n",
    "tempList.insert(0, 'poi')\n",
    "\n",
    "\n",
    "\n",
    "test_classifier(ada, my_dataset, tempList, folds = 100)"
   ]
  },
  {
   "cell_type": "code",
   "execution_count": 17,
   "metadata": {},
   "outputs": [
    {
     "name": "stdout",
     "output_type": "stream",
     "text": [
      "result\n",
      "--------\n",
      "best parameters:  {'RandomForest__class_weight': 'balanced', 'RandomForest__criterion': 'entropy', 'skb__k': 8, 'RandomForest__min_samples_leaf': 2}\n",
      "0.5\n",
      "Pipeline(steps=[('skb', SelectKBest(k=8, score_func=<function f_classif at 0x000000000A9940B8>)), ('RandomForest', RandomForestClassifier(bootstrap=True, class_weight='balanced',\n",
      "            criterion='entropy', max_depth=None, max_features='auto',\n",
      "            max_leaf_nodes=None, min_impurity_split=1e-07,\n",
      " ...n_jobs=1,\n",
      "            oob_score=False, random_state=None, verbose=0,\n",
      "            warm_start=False))])\n",
      "accuracy:  0.965034965035\n",
      "recall:  0.777777777778\n",
      "precision:  0.933333333333\n",
      "f1_score:  0.848484848485\n",
      "             precision    recall  f1-score   support\n",
      "\n",
      "        0.0       0.97      0.99      0.98       125\n",
      "        1.0       0.93      0.78      0.85        18\n",
      "\n",
      "avg / total       0.96      0.97      0.96       143\n",
      "\n",
      "--------\n",
      "\n",
      "                         SKB_score\n",
      "exercised_stock_options  24.815080\n",
      "total_stock_value        24.182899\n",
      "bonus                    20.792252\n",
      "salary                   18.289684\n",
      "deferred_income          11.458477\n",
      "BtoN_ratio               10.783585\n",
      "long_term_incentive       9.922186\n",
      "restricted_stock          9.212811\n",
      "                         RF_importances\n",
      "exercised_stock_options        0.192909\n",
      "BtoN_ratio                     0.167732\n",
      "bonus                          0.161801\n",
      "salary                         0.149826\n",
      "total_stock_value              0.112019\n",
      "restricted_stock               0.084377\n",
      "deferred_income                0.065906\n",
      "long_term_incentive            0.065431\n"
     ]
    },
    {
     "data": {
      "text/html": [
       "<div>\n",
       "<table border=\"1\" class=\"dataframe\">\n",
       "  <thead>\n",
       "    <tr style=\"text-align: right;\">\n",
       "      <th></th>\n",
       "      <th>SKB_score</th>\n",
       "      <th>RF_importances</th>\n",
       "    </tr>\n",
       "  </thead>\n",
       "  <tbody>\n",
       "    <tr>\n",
       "      <th>BtoN_ratio</th>\n",
       "      <td>10.783585</td>\n",
       "      <td>0.167732</td>\n",
       "    </tr>\n",
       "    <tr>\n",
       "      <th>bonus</th>\n",
       "      <td>20.792252</td>\n",
       "      <td>0.161801</td>\n",
       "    </tr>\n",
       "    <tr>\n",
       "      <th>deferred_income</th>\n",
       "      <td>11.458477</td>\n",
       "      <td>0.065906</td>\n",
       "    </tr>\n",
       "    <tr>\n",
       "      <th>exercised_stock_options</th>\n",
       "      <td>24.815080</td>\n",
       "      <td>0.192909</td>\n",
       "    </tr>\n",
       "    <tr>\n",
       "      <th>long_term_incentive</th>\n",
       "      <td>9.922186</td>\n",
       "      <td>0.065431</td>\n",
       "    </tr>\n",
       "    <tr>\n",
       "      <th>restricted_stock</th>\n",
       "      <td>9.212811</td>\n",
       "      <td>0.084377</td>\n",
       "    </tr>\n",
       "    <tr>\n",
       "      <th>salary</th>\n",
       "      <td>18.289684</td>\n",
       "      <td>0.149826</td>\n",
       "    </tr>\n",
       "    <tr>\n",
       "      <th>total_stock_value</th>\n",
       "      <td>24.182899</td>\n",
       "      <td>0.112019</td>\n",
       "    </tr>\n",
       "  </tbody>\n",
       "</table>\n",
       "</div>"
      ],
      "text/plain": [
       "                         SKB_score  RF_importances\n",
       "BtoN_ratio               10.783585        0.167732\n",
       "bonus                    20.792252        0.161801\n",
       "deferred_income          11.458477        0.065906\n",
       "exercised_stock_options  24.815080        0.192909\n",
       "long_term_incentive       9.922186        0.065431\n",
       "restricted_stock          9.212811        0.084377\n",
       "salary                   18.289684        0.149826\n",
       "total_stock_value        24.182899        0.112019"
      ]
     },
     "execution_count": 17,
     "metadata": {},
     "output_type": "execute_result"
    }
   ],
   "source": [
    "cv = StratifiedShuffleSplit(n_splits=5, test_size=0.3, random_state=42)\n",
    "\n",
    "\n",
    "parameters = {'skb__k': range(6, 15),\n",
    "              'RandomForest__criterion': ('gini', 'entropy'), \n",
    "              'RandomForest__class_weight': ('balanced', None), \n",
    "              'RandomForest__min_samples_leaf': range(1,11)}\n",
    "skb = SelectKBest(f_classif)\n",
    "ran = RandomForestClassifier()\n",
    "pipe = Pipeline(steps=[('skb', skb), ('RandomForest', ran)])\n",
    "clf = GridSearchCV(pipe, param_grid= parameters, scoring= 'precision', cv = cv, n_jobs= -1)\n",
    "clf.fit(features, labels)\n",
    "clfResult(features, labels, clf)\n",
    "\n",
    "# print out best k features (you can also rifit skb, I tried couple of times, had the same result)\n",
    "skb_indices = clf.best_estimator_.named_steps['skb'].get_support(indices = True)\n",
    "skb_score =clf.best_estimator_.named_steps['skb'].scores_\n",
    "\n",
    "features_selected=[features_list[i+1] for i in skb_indices]\n",
    "features_score = [skb_score[i] for i in skb_indices]\n",
    "tempS = pd.DataFrame(data={'SKB_score': features_score}, index= features_selected).sort_values('SKB_score', ascending = False)\n",
    "print tempS\n",
    "\n",
    "temp = {'RF_importances' :  clf.best_estimator_.named_steps['RandomForest'].feature_importances_}\n",
    "tempR = pd.DataFrame(data= temp, index= features_selected).sort_values('RF_importances', ascending = False)\n",
    "\n",
    "print tempR\n",
    "\n",
    "pd.concat([tempS, tempR], axis=1)"
   ]
  },
  {
   "cell_type": "markdown",
   "metadata": {},
   "source": [
    "### Classifiers SKB and PCA, and use GridSearchCV and Pipeline to tune its parameters"
   ]
  },
  {
   "cell_type": "code",
   "execution_count": 32,
   "metadata": {},
   "outputs": [
    {
     "name": "stdout",
     "output_type": "stream",
     "text": [
      "result\n",
      "--------\n",
      "best parameters:  {'RandomForest__class_weight': None, 'RandomForest__criterion': 'gini', 'skb__k': 7, 'pca__n_components': 3, 'RandomForest__min_samples_leaf': 1}\n",
      "0.425\n",
      "Pipeline(steps=[('skb', SelectKBest(k=7, score_func=<function f_classif at 0x000000000AC81438>)), ('pca', PCA(copy=True, iterated_power='auto', n_components=3, random_state=None,\n",
      "  svd_solver='auto', tol=0.0, whiten=False)), ('RandomForest', RandomForestClassifier(bootstrap=True, class_weight=None, criterion...imators=10, n_jobs=1, oob_score=False, random_state=None,\n",
      "            verbose=0, warm_start=False))])\n",
      "accuracy:  1.0\n",
      "recall:  1.0\n",
      "precision:  1.0\n",
      "f1_score:  1.0\n",
      "--------\n",
      "\n"
     ]
    }
   ],
   "source": [
    "cv = StratifiedShuffleSplit(n_splits=10, test_size=0.3, random_state=42)\n",
    "\n",
    "\n",
    "parameters = {'skb__k': range(6, 12),\n",
    "              'pca__n_components': range(2, 5),\n",
    "              'RandomForest__criterion': ('gini', 'entropy'), \n",
    "              'RandomForest__class_weight': ('balanced', None), \n",
    "              'RandomForest__min_samples_leaf': range(1,11)}\n",
    "pca = PCA()\n",
    "skb = SelectKBest(f_classif)\n",
    "ran = RandomForestClassifier()\n",
    "pipe = Pipeline(steps=[('skb', skb), ('pca', pca), ('RandomForest', ran)])\n",
    "clf = GridSearchCV(pipe, param_grid= parameters, scoring= 'precision', cv = cv, n_jobs= -1)\n",
    "clf.fit(features, labels)\n",
    "clfResult(features, labels, clf)"
   ]
  },
  {
   "cell_type": "code",
   "execution_count": null,
   "metadata": {
    "collapsed": true
   },
   "outputs": [],
   "source": []
  }
 ],
 "metadata": {
  "anaconda-cloud": {},
  "kernelspec": {
   "display_name": "Python [conda root]",
   "language": "python",
   "name": "conda-root-py"
  },
  "language_info": {
   "codemirror_mode": {
    "name": "ipython",
    "version": 3
   },
   "file_extension": ".py",
   "mimetype": "text/x-python",
   "name": "python",
   "nbconvert_exporter": "python",
   "pygments_lexer": "ipython3",
   "version": "3.6.3"
  }
 },
 "nbformat": 4,
 "nbformat_minor": 1
}
